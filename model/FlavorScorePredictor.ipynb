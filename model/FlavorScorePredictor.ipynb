{
 "cells": [
  {
   "cell_type": "code",
   "execution_count": null,
   "metadata": {},
   "outputs": [],
   "source": [
    "import os\n",
    "import pandas as pd\n",
    "from FlavorModel import FlavorModel\n",
    "from scipy.stats import percentileofscore"
   ]
  },
  {
   "cell_type": "code",
   "execution_count": 4,
   "metadata": {},
   "outputs": [
    {
     "name": "stdout",
     "output_type": "stream",
     "text": [
      "Your Score: 87.94670867919922, Outscored: 1525 competitors, Percentile: 58.40674071237074.\n"
     ]
    }
   ],
   "source": [
    "# Get the data necessary to run the model\n",
    "current_path = os.path.abspath(os.getcwd())\n",
    "count_vectorizer = current_path + \"\\CountVectorizer.cv\"\n",
    "xgb_model = current_path + \"\\Model.xgb\"\n",
    "df = pd.read_csv(f\"{current_path}\\score_and_flavors.csv\")\n",
    "scores = df['Score'].values\n",
    "\n",
    "# Construct the model object\n",
    "model = FlavorModel(count_vectorizer, xgb_model)\n",
    "\n",
    "# Deploy the model and produce a score\n",
    "my_score = model.predict('red wine, green apple, dark chocolate, sugar cane, passion fruit, vanilla, raspberry, lime, herbal, nuts, delicate, lively, citric, refined, tomato, transparent , silky mouthfeel, harmonious, juicy, smooth, creamy')# - model.predict('')\n",
    "\n",
    "# Display stats\n",
    "my_percentile = percentileofscore(scores, my_score)\n",
    "defeated_cups = int(my_percentile/100 * len(scores))\n",
    "print(f\"Your Score: {my_score},\", \n",
    "      f\"Outscored: {defeated_cups} competitors,\",\n",
    "      f\"Percentile: {my_percentile}.\")"
   ]
  }
 ],
 "metadata": {
  "kernelspec": {
   "display_name": "Python 3",
   "language": "python",
   "name": "python3"
  },
  "language_info": {
   "codemirror_mode": {
    "name": "ipython",
    "version": 3
   },
   "file_extension": ".py",
   "mimetype": "text/x-python",
   "name": "python",
   "nbconvert_exporter": "python",
   "pygments_lexer": "ipython3",
   "version": "3.6.10"
  }
 },
 "nbformat": 4,
 "nbformat_minor": 4
}
